{
  "nbformat": 4,
  "nbformat_minor": 0,
  "metadata": {
    "colab": {
      "name": "IA-Parte2.ipynb",
      "provenance": [],
      "collapsed_sections": [],
      "authorship_tag": "ABX9TyMZqqAf4gLL4+wvpRcZ0tGq",
      "include_colab_link": true
    },
    "kernelspec": {
      "name": "python3",
      "display_name": "Python 3"
    }
  },
  "cells": [
    {
      "cell_type": "markdown",
      "metadata": {
        "id": "view-in-github",
        "colab_type": "text"
      },
      "source": [
        "<a href=\"https://colab.research.google.com/github/Lucas-Souza-Santos/InteligenciaArtificialUFPE/blob/main/IA_Parte2.ipynb\" target=\"_parent\"><img src=\"https://colab.research.google.com/assets/colab-badge.svg\" alt=\"Open In Colab\"/></a>"
      ]
    },
    {
      "cell_type": "markdown",
      "metadata": {
        "id": "1D5e0heXBpmI"
      },
      "source": [
        "# Inteligência Artificial\r\n",
        "## Por que Python\r\n",
        "* Sintaxe simples e menos codificação\r\n",
        "* Biblioteca Integrada \r\n",
        "  \r\n",
        "  1. Numpy\r\n",
        "  2. SciPy\r\n",
        "  3. matplotlib\r\n",
        "  4. nltk\r\n",
        "  5. SimpleAI\r\n",
        "* Recursos do Python \r\n",
        "\r\n",
        "  1. Fácil de aprender \r\n",
        "  2. Fácil de ler \r\n",
        "  3. Fácil de manter\r\n",
        "  4. mode interativo \r\n",
        "  5. Portátil \r\n",
        "  6. Exensível \r\n",
        "  7. Banco de dados \r\n",
        "  8. Programação GUI \r\n",
        "  9. Escalável\r\n",
        "\r\n"
      ]
    }
  ]
}