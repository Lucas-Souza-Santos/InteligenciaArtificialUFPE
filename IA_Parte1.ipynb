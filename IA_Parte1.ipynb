{
  "nbformat": 4,
  "nbformat_minor": 0,
  "metadata": {
    "colab": {
      "name": "IA-Parte1.ipynb",
      "provenance": [],
      "authorship_tag": "ABX9TyOSr2Oc+CfdN8YBRkhyEzMb",
      "include_colab_link": true
    },
    "kernelspec": {
      "name": "python3",
      "display_name": "Python 3"
    }
  },
  "cells": [
    {
      "cell_type": "markdown",
      "metadata": {
        "id": "view-in-github",
        "colab_type": "text"
      },
      "source": [
        "<a href=\"https://colab.research.google.com/github/Lucas-Souza-Santos/InteligenciaArtificialUFPE/blob/main/IA_Parte1.ipynb\" target=\"_parent\"><img src=\"https://colab.research.google.com/assets/colab-badge.svg\" alt=\"Open In Colab\"/></a>"
      ]
    },
    {
      "cell_type": "markdown",
      "metadata": {
        "id": "REee1_4J3aKq"
      },
      "source": [
        "# Inteligência Artificial\r\n",
        "## Conceitos Basicos\r\n",
        "É a ciência e a engenharia de fazer máquinas inteligentes.\r\n",
        "\r\n"
      ]
    }
  ]
}