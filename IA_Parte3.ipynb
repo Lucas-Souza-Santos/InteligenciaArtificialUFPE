{
  "nbformat": 4,
  "nbformat_minor": 0,
  "metadata": {
    "colab": {
      "name": "IA-Parte3.ipynb",
      "provenance": [],
      "collapsed_sections": [],
      "authorship_tag": "ABX9TyPZZg/nPEmQbB/IWmZefRnt",
      "include_colab_link": true
    },
    "kernelspec": {
      "name": "python3",
      "display_name": "Python 3"
    }
  },
  "cells": [
    {
      "cell_type": "markdown",
      "metadata": {
        "id": "view-in-github",
        "colab_type": "text"
      },
      "source": [
        "<a href=\"https://colab.research.google.com/github/Lucas-Souza-Santos/InteligenciaArtificialUFPE/blob/main/IA_Parte3.ipynb\" target=\"_parent\"><img src=\"https://colab.research.google.com/assets/colab-badge.svg\" alt=\"Open In Colab\"/></a>"
      ]
    },
    {
      "cell_type": "markdown",
      "metadata": {
        "id": "_3H01UEZDvFq"
      },
      "source": [
        "# Inteligência Artificial \r\n",
        "Aprender significa a aquisição de conhecimentos ou habilidades por meio do estudo ou da experiência. \r\n",
        "\r\n",
        "#### Podemos definir o aprendizado de máquina, como:\r\n",
        "Pode ser definido como o campo da ciência da computação, mais especificamente uma aplicação de inteligência artificail, que fornece aos sistemas de computador a capacidade de aprender com dados e melhorar com a experiência sem serem explicitamente programados.\r\n",
        "\r\n",
        "#### Como esse aprendizado pode ser iniciado e feito ?\r\n",
        "##### Tipos de aprendizado de máquina(ML)\r\n",
        "* apredizado supervisionado\r\n",
        "\r\n",
        "  Problemas de aprendizagem supervisionadas principalmente podem ser divididos nos seguintes tipos:\r\n",
        "  1. Classificação \r\n",
        "  2. Regressão\r\n",
        "\r\n",
        "* aprendizado não supervisionado\r\n",
        "  1. cluster \r\n",
        "  2. Associação\r\n",
        "\r\n",
        "* Reforço de máquina\r\n",
        "\r\n",
        "## Algoritmos de aprendizado de máquina mais comuns \r\n",
        "* Regressão linear \r\n",
        "  1. Regressão linear simples\r\n",
        "  2. Regressão linear múltipla\r\n",
        "\r\n",
        "* Regressão Logística \r\n",
        "* Arvore de Decisão"
      ]
    }
  ]
}