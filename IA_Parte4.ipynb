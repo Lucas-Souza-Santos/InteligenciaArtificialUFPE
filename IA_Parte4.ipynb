{
  "nbformat": 4,
  "nbformat_minor": 0,
  "metadata": {
    "colab": {
      "name": "IA-Parte4.ipynb",
      "provenance": [],
      "collapsed_sections": [],
      "authorship_tag": "ABX9TyNxPn71EQo45dMmbqFw5aG7",
      "include_colab_link": true
    },
    "kernelspec": {
      "name": "python3",
      "display_name": "Python 3"
    }
  },
  "cells": [
    {
      "cell_type": "markdown",
      "metadata": {
        "id": "view-in-github",
        "colab_type": "text"
      },
      "source": [
        "<a href=\"https://colab.research.google.com/github/Lucas-Souza-Santos/InteligenciaArtificialUFPE/blob/main/IA_Parte4.ipynb\" target=\"_parent\"><img src=\"https://colab.research.google.com/assets/colab-badge.svg\" alt=\"Open In Colab\"/></a>"
      ]
    },
    {
      "cell_type": "markdown",
      "metadata": {
        "id": "hNwkH0rIIz5B"
      },
      "source": [
        "## Pré-processamento dos dados\r\n",
        "\r\n",
        "Em nossa vida diária, lidamos com muitos dados, mas esses dados esão na forma bruta. Para fornecer os dados como entrada de algoritmos de aprendizado de máquina, precisamos convertê-los em dados significativos. É aí que o pré-processamento de dados entra em cena. Em outras palavras, podemos dizer que antes de fornecer os dados aos algoritmos de aprendizado de máquina, precisamos pré-processar os dados.\r\n",
        "\r\n",
        "##### Estapas de pré-processamento de dados \r\n"
      ]
    },
    {
      "cell_type": "markdown",
      "metadata": {
        "id": "hgyE6O4TKESK"
      },
      "source": [
        "**Etapa 1 - Importar os pacotes úteis**"
      ]
    },
    {
      "cell_type": "code",
      "metadata": {
        "id": "Dv6r58MxJYG1"
      },
      "source": [
        "import numpy as np \r\n",
        "import sklearn.preprocessing as pp"
      ],
      "execution_count": 39,
      "outputs": []
    },
    {
      "cell_type": "markdown",
      "metadata": {
        "id": "LaW8CwLPJztn"
      },
      "source": [
        "**Etapa 2 - Definir dados de amostra**\r\n"
      ]
    },
    {
      "cell_type": "code",
      "metadata": {
        "id": "pj67m8IeJ9Ev"
      },
      "source": [
        "entrada_dados = np.array([[2.1, -1.9, 5.5],\r\n",
        "                         [-1.5, 2.4, 3.5],\r\n",
        "                         [0.5, -7.9, 5.6],\r\n",
        "                         [5.9, 2.3, -5.8]])"
      ],
      "execution_count": 40,
      "outputs": []
    },
    {
      "cell_type": "markdown",
      "metadata": {
        "id": "VxQwUjWGOcz7"
      },
      "source": [
        "**Etapa 3 - Aplicação da técinica de pré-processamento**\r\n",
        "* Binarização"
      ]
    },
    {
      "cell_type": "code",
      "metadata": {
        "colab": {
          "base_uri": "https://localhost:8080/"
        },
        "id": "7QAgrPPAOYc-",
        "outputId": "3cecaca1-31fd-4d49-d55b-e30eb49d2014"
      },
      "source": [
        "entrada_binarizada = pp.Binarizer(threshold= 0.5).transform(entrada_dados)\r\n",
        "print(entrada_binarizada)"
      ],
      "execution_count": 41,
      "outputs": [
        {
          "output_type": "stream",
          "text": [
            "[[1. 0. 1.]\n",
            " [0. 1. 1.]\n",
            " [0. 0. 1.]\n",
            " [1. 1. 0.]]\n"
          ],
          "name": "stdout"
        }
      ]
    },
    {
      "cell_type": "markdown",
      "metadata": {
        "id": "c7i9OOKZR_nM"
      },
      "source": [
        "Depois que o código foi execultado: obtemos 1 para valores acima de 0.5 e 0 para valores abaixo de 0.5."
      ]
    },
    {
      "cell_type": "markdown",
      "metadata": {
        "id": "bzcDgyLjSWWW"
      },
      "source": [
        "* Romoção de Média"
      ]
    },
    {
      "cell_type": "code",
      "metadata": {
        "colab": {
          "base_uri": "https://localhost:8080/"
        },
        "id": "W7aFZ9HnSNsp",
        "outputId": "ff7d718b-5020-465b-958d-f104bacfdb02"
      },
      "source": [
        "print(f\"Média = {entrada_dados.mean(axis=0)}\")\r\n",
        "print(f\"Desvio Padrão = {entrada_dados.std(axis= 0)}\")"
      ],
      "execution_count": 42,
      "outputs": [
        {
          "output_type": "stream",
          "text": [
            "Média = [ 1.75  -1.275  2.2  ]\n",
            "Desvio Padrão = [2.71431391 4.20022321 4.69414529]\n"
          ],
          "name": "stdout"
        }
      ]
    },
    {
      "cell_type": "markdown",
      "metadata": {
        "id": "DCbq7aQFTKyX"
      },
      "source": [
        "O código abaixo vai retirar a média e o desvio padrão dos resultados"
      ]
    },
    {
      "cell_type": "code",
      "metadata": {
        "colab": {
          "base_uri": "https://localhost:8080/"
        },
        "id": "IzV2_r7xTSlT",
        "outputId": "d699708e-e769-4e81-a6a1-80705daed354"
      },
      "source": [
        "entrada_escala = pp.scale(entrada_dados)\r\n",
        "print(f\"Média = {entrada_escala.mean(axis=0)}\")\r\n",
        "print(f\"Desvio Padrão = {entrada_escala.std(axis=0)}\")"
      ],
      "execution_count": 43,
      "outputs": [
        {
          "output_type": "stream",
          "text": [
            "Média = [1.11022302e-16 0.00000000e+00 0.00000000e+00]\n",
            "Desvio Padrão = [1. 1. 1.]\n"
          ],
          "name": "stdout"
        }
      ]
    },
    {
      "cell_type": "markdown",
      "metadata": {
        "id": "F3JxW7J6Utcj"
      },
      "source": [
        "* Dimensionamento"
      ]
    },
    {
      "cell_type": "code",
      "metadata": {
        "colab": {
          "base_uri": "https://localhost:8080/"
        },
        "id": "8GHZzIRxUzfw",
        "outputId": "2a6ff801-2011-4a80-b573-7a6337cffcc9"
      },
      "source": [
        "dados_escalado_minmax = pp.MinMaxScaler(feature_range=(0, 1))\r\n",
        "dados_escalonado_minmax = dados_escalado_minmax.fit_transform(entrada_dados)\r\n",
        "print(f\"\\nMin max escala de dados: \\n {dados_escalonado_minmax}\")"
      ],
      "execution_count": 44,
      "outputs": [
        {
          "output_type": "stream",
          "text": [
            "\n",
            "Min max escala de dados: \n",
            " [[0.48648649 0.58252427 0.99122807]\n",
            " [0.         1.         0.81578947]\n",
            " [0.27027027 0.         1.        ]\n",
            " [1.         0.99029126 0.        ]]\n"
          ],
          "name": "stdout"
        }
      ]
    },
    {
      "cell_type": "markdown",
      "metadata": {
        "id": "E4O8uH6fWAdW"
      },
      "source": [
        "* Normalização\r\n",
        "  1. Normalização L1 ou **Desvios Mínimos Absolutos**"
      ]
    },
    {
      "cell_type": "code",
      "metadata": {
        "colab": {
          "base_uri": "https://localhost:8080/"
        },
        "id": "1obLEZ6lWEMx",
        "outputId": "f9defb11-d0e7-4e63-d48d-69fca9b9b5c4"
      },
      "source": [
        "# Normalização de dados \r\n",
        "dados_normalizados_L1 = pp.normalize(entrada_dados, norm='l1')\r\n",
        "print(dados_normalizados_L1)"
      ],
      "execution_count": 45,
      "outputs": [
        {
          "output_type": "stream",
          "text": [
            "[[ 0.22105263 -0.2         0.57894737]\n",
            " [-0.2027027   0.32432432  0.47297297]\n",
            " [ 0.03571429 -0.56428571  0.4       ]\n",
            " [ 0.42142857  0.16428571 -0.41428571]]\n"
          ],
          "name": "stdout"
        }
      ]
    },
    {
      "cell_type": "markdown",
      "metadata": {
        "id": "kONpII9LXH2r"
      },
      "source": [
        "  2. Normalização L2 ou **mínimos quadrados**"
      ]
    },
    {
      "cell_type": "code",
      "metadata": {
        "colab": {
          "base_uri": "https://localhost:8080/"
        },
        "id": "XlPENxggW8bS",
        "outputId": "2ef19241-2bef-4e86-d9f3-22f72bbe2e15"
      },
      "source": [
        "# normalização de dados L2\r\n",
        "dados_normalizados_L2 = pp.normalize(entrada_dados, norm='l2')\r\n",
        "print(f\"\\nL2 normalização de dados: \\n{dados_normalizados_L2}\")"
      ],
      "execution_count": 46,
      "outputs": [
        {
          "output_type": "stream",
          "text": [
            "\n",
            "L2 normalização de dados: \n",
            "[[ 0.33946114 -0.30713151  0.88906489]\n",
            " [-0.33325106  0.53320169  0.7775858 ]\n",
            " [ 0.05156558 -0.81473612  0.57753446]\n",
            " [ 0.68706914  0.26784051 -0.6754239 ]]\n"
          ],
          "name": "stdout"
        }
      ]
    },
    {
      "cell_type": "markdown",
      "metadata": {
        "id": "rnY_RskeYmRh"
      },
      "source": [
        "## Rotulando os dados\r\n",
        "Os rotulos podem vim em forma de palavras ou em números. As funções ao aprendizados de máquinas no sklearn esperam que os dados tenham rótulos numéricos. Portanto, se os dados estiverem em outra forma, eles devem ser convertidos em números. "
      ]
    },
    {
      "cell_type": "code",
      "metadata": {
        "colab": {
          "base_uri": "https://localhost:8080/"
        },
        "id": "99s4FL7gYruH",
        "outputId": "b4643b56-2537-4c10-d2b3-6ed36d872c52"
      },
      "source": [
        "entrada_label = ['red', 'black', 'red', 'green', 'black', 'yellow', 'white']\r\n",
        "encoder = pp.LabelEncoder()\r\n",
        "encoder.fit(entrada_label)"
      ],
      "execution_count": 47,
      "outputs": [
        {
          "output_type": "execute_result",
          "data": {
            "text/plain": [
              "LabelEncoder()"
            ]
          },
          "metadata": {
            "tags": []
          },
          "execution_count": 47
        }
      ]
    },
    {
      "cell_type": "code",
      "metadata": {
        "colab": {
          "base_uri": "https://localhost:8080/"
        },
        "id": "LKh8K8PTZkVf",
        "outputId": "c3cb6214-69cf-411f-f689-6870a71c2329"
      },
      "source": [
        "test_labels = ['green','red','black']\r\n",
        "encoded_values = encoder.transform(test_labels)\r\n",
        "print(\"\\nLabels =\", test_labels)"
      ],
      "execution_count": 48,
      "outputs": [
        {
          "output_type": "stream",
          "text": [
            "\n",
            "Labels = ['green', 'red', 'black']\n"
          ],
          "name": "stdout"
        }
      ]
    },
    {
      "cell_type": "code",
      "metadata": {
        "colab": {
          "base_uri": "https://localhost:8080/"
        },
        "id": "BIZZeBAzaacx",
        "outputId": "27a27245-312d-4d43-ced1-798684b06fb3"
      },
      "source": [
        "print(\"Encoded values =\", list(encoded_values))"
      ],
      "execution_count": 49,
      "outputs": [
        {
          "output_type": "stream",
          "text": [
            "Encoded values = [1, 2, 0]\n"
          ],
          "name": "stdout"
        }
      ]
    }
  ]
}